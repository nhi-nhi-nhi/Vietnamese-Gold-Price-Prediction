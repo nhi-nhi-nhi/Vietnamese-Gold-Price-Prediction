{
 "cells": [
  {
   "cell_type": "code",
   "execution_count": 2,
   "metadata": {},
   "outputs": [],
   "source": [
    "import requests\n",
    "from bs4 import BeautifulSoup\n",
    "import ast"
   ]
  },
  {
   "cell_type": "markdown",
   "metadata": {},
   "source": [
    "### Web Scraping"
   ]
  },
  {
   "cell_type": "code",
   "execution_count": 6,
   "metadata": {},
   "outputs": [
    {
     "name": "stdout",
     "output_type": "stream",
     "text": [
      "<span itemprop=\"name\">Biểu đồ giá vàng SJC 1 năm</span>\n",
      "https://webgia.com/gia-vang/sjc/bieu-do-1-nam.html\n"
     ]
    }
   ],
   "source": [
    "page = requests.get('https://webgia.com').text\n",
    "soup = BeautifulSoup(page, 'html.parser')\n",
    "\n",
    "artists = soup.find_all('a', string='Biểu đồ giá vàng SJC 1 năm')\n",
    "for artist in artists:\n",
    "    names = artist.contents[0]\n",
    "    fullLink = artist.get('href')\n",
    "    print(names)\n",
    "    print(fullLink)\n",
    "\n",
    "    url = fullLink"
   ]
  },
  {
   "cell_type": "code",
   "execution_count": 7,
   "metadata": {},
   "outputs": [],
   "source": [
    "gimme_da_data = requests.get(url)\n",
    "marrow_soup = BeautifulSoup(gimme_da_data.content, 'html.parser')\n",
    "\n",
    "scripts = marrow_soup.find_all('script', type='text/javascript')\n",
    "\n",
    "data = scripts[1].text\n",
    "i = data.index('data:[')\n",
    "j = data.index(',tooltip:')\n",
    "gia_vang = data[i+6:j-1]\n",
    "\n",
    "gia_vang = ast.literal_eval(gia_vang)\n",
    "\n",
    "true_gia_vang = []\n",
    "\n",
    "for i in gia_vang:\n",
    "    true_gia_vang.append(float(i[1]))"
   ]
  },
  {
   "cell_type": "code",
   "execution_count": 8,
   "metadata": {},
   "outputs": [
    {
     "name": "stdout",
     "output_type": "stream",
     "text": [
      "              Timestamp  Price     Type\n",
      "0   2023-11-13 17:00:00  70.30   Bán ra\n",
      "1   2023-11-14 17:00:00  70.50   Bán ra\n",
      "2   2023-11-15 17:00:00  70.35   Bán ra\n",
      "3   2023-11-16 17:00:00  70.40   Bán ra\n",
      "4   2023-11-17 17:00:00  70.60   Bán ra\n",
      "..                  ...    ...      ...\n",
      "559 2024-11-06 17:00:00  87.00  Mua vào\n",
      "560 2024-11-07 17:00:00  85.50  Mua vào\n",
      "561 2024-11-08 17:00:00  82.00  Mua vào\n",
      "562 2024-11-09 17:00:00  82.00  Mua vào\n",
      "563 2024-11-11 17:00:00  82.00  Mua vào\n",
      "\n",
      "[564 rows x 3 columns]\n"
     ]
    }
   ],
   "source": [
    "import re\n",
    "import json\n",
    "import pandas as pd\n",
    "\n",
    "# The data is assumed to be stored in a variable `script_text`\n",
    "script_text = data\n",
    "\n",
    "# Step 2: Extract the `seriesOptions` data using regex\n",
    "pattern = r'seriesOptions\\s*=\\s*(\\[\\{.*?\\}\\]);'\n",
    "match = re.search(pattern, script_text, re.DOTALL)\n",
    "\n",
    "if match:\n",
    "    series_data = match.group(1)\n",
    "\n",
    "    # Further processing to handle JavaScript-style JSON\n",
    "    # 1. Replace single quotes with double quotes\n",
    "    series_data = series_data.replace(\"'\", '\"')\n",
    "    \n",
    "    # 2. Add double quotes around unquoted keys (e.g., tooltip, shadow)\n",
    "    series_data = re.sub(r'(\\b\\w+\\b):', r'\"\\1\":', series_data)\n",
    "\n",
    "    # Now attempt to parse the JSON\n",
    "    try:\n",
    "        series_data = json.loads(series_data)\n",
    "\n",
    "        # Step 3: Convert to a DataFrame\n",
    "        data_frames = []\n",
    "        for series in series_data:\n",
    "            name = series['name']\n",
    "            data = series['data']\n",
    "            # Create a DataFrame from the data\n",
    "            df = pd.DataFrame(data, columns=['Timestamp', 'Price'])\n",
    "            df['Type'] = name  # Add a column for the type of data (e.g., 'Bán ra' or 'Mua vào')\n",
    "            data_frames.append(df)\n",
    "\n",
    "        # Combine both 'Bán ra' and 'Mua vào' data into a single DataFrame\n",
    "        df = pd.concat(data_frames, ignore_index=True)\n",
    "\n",
    "        # Convert the timestamp from milliseconds to a readable date format\n",
    "        df['Timestamp'] = pd.to_datetime(df['Timestamp'], unit='ms')\n",
    "\n",
    "        # Display the final data table\n",
    "        print(df)\n",
    "    except json.JSONDecodeError as e:\n",
    "        print(\"Error parsing JSON:\", e)\n",
    "else:\n",
    "    print(\"No data found in the script text.\")\n"
   ]
  },
  {
   "cell_type": "markdown",
   "metadata": {},
   "source": [
    "### Data Preprocessing"
   ]
  },
  {
   "cell_type": "code",
   "execution_count": 9,
   "metadata": {},
   "outputs": [
    {
     "data": {
      "text/html": [
       "<div>\n",
       "<style scoped>\n",
       "    .dataframe tbody tr th:only-of-type {\n",
       "        vertical-align: middle;\n",
       "    }\n",
       "\n",
       "    .dataframe tbody tr th {\n",
       "        vertical-align: top;\n",
       "    }\n",
       "\n",
       "    .dataframe thead th {\n",
       "        text-align: right;\n",
       "    }\n",
       "</style>\n",
       "<table border=\"1\" class=\"dataframe\">\n",
       "  <thead>\n",
       "    <tr style=\"text-align: right;\">\n",
       "      <th></th>\n",
       "      <th>Timestamp</th>\n",
       "      <th>Price</th>\n",
       "      <th>Type</th>\n",
       "    </tr>\n",
       "  </thead>\n",
       "  <tbody>\n",
       "    <tr>\n",
       "      <th>0</th>\n",
       "      <td>2023-11-13 17:00:00</td>\n",
       "      <td>70.30</td>\n",
       "      <td>Bán ra</td>\n",
       "    </tr>\n",
       "    <tr>\n",
       "      <th>1</th>\n",
       "      <td>2023-11-14 17:00:00</td>\n",
       "      <td>70.50</td>\n",
       "      <td>Bán ra</td>\n",
       "    </tr>\n",
       "    <tr>\n",
       "      <th>2</th>\n",
       "      <td>2023-11-15 17:00:00</td>\n",
       "      <td>70.35</td>\n",
       "      <td>Bán ra</td>\n",
       "    </tr>\n",
       "    <tr>\n",
       "      <th>3</th>\n",
       "      <td>2023-11-16 17:00:00</td>\n",
       "      <td>70.40</td>\n",
       "      <td>Bán ra</td>\n",
       "    </tr>\n",
       "    <tr>\n",
       "      <th>4</th>\n",
       "      <td>2023-11-17 17:00:00</td>\n",
       "      <td>70.60</td>\n",
       "      <td>Bán ra</td>\n",
       "    </tr>\n",
       "  </tbody>\n",
       "</table>\n",
       "</div>"
      ],
      "text/plain": [
       "            Timestamp  Price    Type\n",
       "0 2023-11-13 17:00:00  70.30  Bán ra\n",
       "1 2023-11-14 17:00:00  70.50  Bán ra\n",
       "2 2023-11-15 17:00:00  70.35  Bán ra\n",
       "3 2023-11-16 17:00:00  70.40  Bán ra\n",
       "4 2023-11-17 17:00:00  70.60  Bán ra"
      ]
     },
     "execution_count": 9,
     "metadata": {},
     "output_type": "execute_result"
    }
   ],
   "source": [
    "df.head()"
   ]
  },
  {
   "cell_type": "code",
   "execution_count": 10,
   "metadata": {},
   "outputs": [
    {
     "name": "stdout",
     "output_type": "stream",
     "text": [
      "types of data:\n",
      "Type\n",
      "Bán ra     282\n",
      "Mua vào    282\n",
      "Name: count, dtype: int64\n",
      "---------------------------------------------------\n",
      "null values:\n",
      "Timestamp    0\n",
      "Price        0\n",
      "Type         0\n",
      "dtype: int64\n",
      "---------------------------------------------------\n",
      "data types:\n",
      "Timestamp    datetime64[ns]\n",
      "Price               float64\n",
      "Type                 object\n",
      "dtype: object\n"
     ]
    }
   ],
   "source": [
    "print('types of data:')\n",
    "print(df.value_counts('Type'))\n",
    "print('---------------------------------------------------')\n",
    "print('null values:')\n",
    "print(df.isnull().sum())\n",
    "print('---------------------------------------------------')\n",
    "print('data types:')\n",
    "print(df.dtypes)"
   ]
  },
  {
   "cell_type": "code",
   "execution_count": 11,
   "metadata": {},
   "outputs": [
    {
     "name": "stdout",
     "output_type": "stream",
     "text": [
      "      Timestamp  Price     Type\n",
      "0    2023-11-13  70.30   Bán ra\n",
      "1    2023-11-14  70.50   Bán ra\n",
      "2    2023-11-15  70.35   Bán ra\n",
      "3    2023-11-16  70.40   Bán ra\n",
      "4    2023-11-17  70.60   Bán ra\n",
      "..          ...    ...      ...\n",
      "559  2024-11-06  87.00  Mua vào\n",
      "560  2024-11-07  85.50  Mua vào\n",
      "561  2024-11-08  82.00  Mua vào\n",
      "562  2024-11-09  82.00  Mua vào\n",
      "563  2024-11-11  82.00  Mua vào\n",
      "\n",
      "[564 rows x 3 columns]\n"
     ]
    }
   ],
   "source": [
    "# Convert the Timestamp to datetime if it isn't already\n",
    "df['Timestamp'] = pd.to_datetime(df['Timestamp'], unit='ms')\n",
    "\n",
    "# Display only the date part\n",
    "df['Timestamp'] = df['Timestamp'].dt.date\n",
    "\n",
    "# Display the DataFrame\n",
    "print(df)"
   ]
  },
  {
   "cell_type": "code",
   "execution_count": 12,
   "metadata": {},
   "outputs": [
    {
     "data": {
      "text/html": [
       "<div>\n",
       "<style scoped>\n",
       "    .dataframe tbody tr th:only-of-type {\n",
       "        vertical-align: middle;\n",
       "    }\n",
       "\n",
       "    .dataframe tbody tr th {\n",
       "        vertical-align: top;\n",
       "    }\n",
       "\n",
       "    .dataframe thead th {\n",
       "        text-align: right;\n",
       "    }\n",
       "</style>\n",
       "<table border=\"1\" class=\"dataframe\">\n",
       "  <thead>\n",
       "    <tr style=\"text-align: right;\">\n",
       "      <th></th>\n",
       "      <th>Timestamp</th>\n",
       "      <th>Price</th>\n",
       "      <th>Selling</th>\n",
       "      <th>Buying</th>\n",
       "    </tr>\n",
       "  </thead>\n",
       "  <tbody>\n",
       "    <tr>\n",
       "      <th>0</th>\n",
       "      <td>2023-11-13</td>\n",
       "      <td>70.30</td>\n",
       "      <td>1</td>\n",
       "      <td>0</td>\n",
       "    </tr>\n",
       "    <tr>\n",
       "      <th>1</th>\n",
       "      <td>2023-11-14</td>\n",
       "      <td>70.50</td>\n",
       "      <td>1</td>\n",
       "      <td>0</td>\n",
       "    </tr>\n",
       "    <tr>\n",
       "      <th>2</th>\n",
       "      <td>2023-11-15</td>\n",
       "      <td>70.35</td>\n",
       "      <td>1</td>\n",
       "      <td>0</td>\n",
       "    </tr>\n",
       "    <tr>\n",
       "      <th>3</th>\n",
       "      <td>2023-11-16</td>\n",
       "      <td>70.40</td>\n",
       "      <td>1</td>\n",
       "      <td>0</td>\n",
       "    </tr>\n",
       "    <tr>\n",
       "      <th>4</th>\n",
       "      <td>2023-11-17</td>\n",
       "      <td>70.60</td>\n",
       "      <td>1</td>\n",
       "      <td>0</td>\n",
       "    </tr>\n",
       "  </tbody>\n",
       "</table>\n",
       "</div>"
      ],
      "text/plain": [
       "    Timestamp  Price  Selling  Buying\n",
       "0  2023-11-13  70.30        1       0\n",
       "1  2023-11-14  70.50        1       0\n",
       "2  2023-11-15  70.35        1       0\n",
       "3  2023-11-16  70.40        1       0\n",
       "4  2023-11-17  70.60        1       0"
      ]
     },
     "execution_count": 12,
     "metadata": {},
     "output_type": "execute_result"
    }
   ],
   "source": [
    "dummy_variable = df['Type'].str.get_dummies()\n",
    "dummy_variable.rename(columns={'Bán ra': 'Selling', 'Mua vào': 'Buying'}, inplace=True)\n",
    "df = pd.concat([df, dummy_variable], axis=1)\n",
    "df.drop('Type', axis=1, inplace=True)\n",
    "df.head()"
   ]
  },
  {
   "cell_type": "markdown",
   "metadata": {},
   "source": [
    "### Model Training"
   ]
  },
  {
   "cell_type": "code",
   "execution_count": 13,
   "metadata": {},
   "outputs": [
    {
     "name": "stdout",
     "output_type": "stream",
     "text": [
      "Model Performance on Test Set:\n",
      "Mean Absolute Error (MAE): 2.6098371742494337\n",
      "Root Mean Squared Error (RMSE): 3.5075522438258546\n",
      "R-squared (R²): 0.4835012491909094\n",
      "Cross-Validation RMSE: 5.944261653390738 ± 1.3260309412734554\n"
     ]
    }
   ],
   "source": [
    "import pandas as pd\n",
    "import numpy as np\n",
    "from sklearn.preprocessing import PolynomialFeatures\n",
    "from sklearn.linear_model import LinearRegression\n",
    "from sklearn.pipeline import Pipeline\n",
    "from sklearn.model_selection import train_test_split, cross_val_score\n",
    "from sklearn.metrics import mean_squared_error, mean_absolute_error, r2_score\n",
    "\n",
    "# Assuming `final_df` is the DataFrame you've already processed\n",
    "# Convert the Timestamp to ordinal date format for regression models\n",
    "df['Date_Ordinal'] = pd.to_datetime(df['Timestamp']).map(pd.Timestamp.toordinal)\n",
    "\n",
    "# Define features (X) and target (y)\n",
    "X = df[['Date_Ordinal', 'Selling', 'Buying']]\n",
    "y = df['Price']\n",
    "\n",
    "# Split data into training and test sets\n",
    "X_train, X_test, y_train, y_test = train_test_split(X, y, test_size=0.2, random_state=42)\n",
    "\n",
    "# Set the degree of the polynomial features\n",
    "degree = 2  # You can experiment with different degrees\n",
    "\n",
    "# Create the polynomial regression pipeline\n",
    "polynomial_regression = Pipeline([\n",
    "    (\"polynomial_features\", PolynomialFeatures(degree=degree)),\n",
    "    (\"linear_regression\", LinearRegression())\n",
    "])\n",
    "\n",
    "# Fit the model\n",
    "polynomial_regression.fit(X_train, y_train)\n",
    "\n",
    "# Make predictions on the test set\n",
    "y_pred = polynomial_regression.predict(X_test)\n",
    "\n",
    "# Calculate metrics\n",
    "mae = mean_absolute_error(y_test, y_pred)\n",
    "mse = mean_squared_error(y_test, y_pred)\n",
    "rmse = np.sqrt(mse)\n",
    "r2 = r2_score(y_test, y_pred)\n",
    "\n",
    "print(\"Model Performance on Test Set:\")\n",
    "print(f\"Mean Absolute Error (MAE): {mae}\")\n",
    "print(f\"Root Mean Squared Error (RMSE): {rmse}\")\n",
    "print(f\"R-squared (R²): {r2}\")\n",
    "\n",
    "# Perform cross-validation to assess model stability\n",
    "cv_scores = cross_val_score(polynomial_regression, X, y, cv=5, scoring='neg_mean_squared_error')\n",
    "cv_rmse = np.sqrt(-cv_scores)\n",
    "\n",
    "print(f\"Cross-Validation RMSE: {cv_rmse.mean()} ± {cv_rmse.std()}\")\n"
   ]
  },
  {
   "cell_type": "code",
   "execution_count": 14,
   "metadata": {},
   "outputs": [
    {
     "name": "stdout",
     "output_type": "stream",
     "text": [
      "Predicted Gold Price on 2024-11-12: 83.44285611063242\n"
     ]
    }
   ],
   "source": [
    "# Example of predicting the gold price for a future date\n",
    "from datetime import datetime\n",
    "\n",
    "# Replace 'YYYY-MM-DD' with the actual date you want to predict\n",
    "new_date = '2024-11-12'\n",
    "date_ordinal = pd.Timestamp(new_date).toordinal()\n",
    "new_data = pd.DataFrame({\n",
    "    'Date_Ordinal': [date_ordinal],\n",
    "    'Selling': [1],  # Adjust based on your feature\n",
    "    'Buying': [0]     # Adjust based on your feature\n",
    "})\n",
    "\n",
    "predicted_price = polynomial_regression.predict(new_data)\n",
    "print(f\"Predicted Gold Price on {new_date}: {predicted_price[0]}\")"
   ]
  }
 ],
 "metadata": {
  "kernelspec": {
   "display_name": "Python 3",
   "language": "python",
   "name": "python3"
  },
  "language_info": {
   "codemirror_mode": {
    "name": "ipython",
    "version": 3
   },
   "file_extension": ".py",
   "mimetype": "text/x-python",
   "name": "python",
   "nbconvert_exporter": "python",
   "pygments_lexer": "ipython3",
   "version": "3.12.5"
  }
 },
 "nbformat": 4,
 "nbformat_minor": 2
}
